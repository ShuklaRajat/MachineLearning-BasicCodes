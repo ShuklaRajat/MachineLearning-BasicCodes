{
 "cells": [
  {
   "cell_type": "code",
   "execution_count": null,
   "metadata": {},
   "outputs": [],
   "source": [
    "from sklearn import metrics\n",
    "import pandas as pd\n",
    "msg=pd.read_csv('prog6.csv',names=['message','label'])\n",
    "\n",
    "print('The dimensions of the dataset',msg.shape)\n",
    "msg['label']=msg.label.map({'pos':1,'neg':0})\n",
    "print(msg)\n",
    "X=msg.message\n",
    "y=msg.label\n",
    "print(X)\n",
    "print(y)\n",
    "from sklearn.model_selection import train_test_split\n",
    "xtrain,xtest,ytrain,ytest=train_test_split(X,y, test_size=0.25, random_state=5)\n",
    "\n",
    "from sklearn.feature_extraction.text import CountVectorizer\n",
    "count_vect = CountVectorizer()\n",
    "xtrain_data_transform = count_vect.fit_transform(xtrain)\n",
    "xtest_data_transform = count_vect.transform(xtest)\n",
    "print(count_vect.get_feature_names())\n",
    "df=pd.DataFrame(xtrain_data_transform.toarray(),columns=count_vect.get_feature_names())\n",
    "\n",
    "from sklearn.naive_bayes import MultinomialNB\n",
    "classify = MultinomialNB().fit(xtrain_data_transform,ytrain)\n",
    "predicted = classify.predict(xtest_data_transform)\n",
    "\n",
    "print('Accuracy metrics')\n",
    "print('Accuracy of the classifier is ',metrics.accuracy_score(ytest,predicted))\n",
    "print('Confusion matrix')\n",
    "print(metrics.confusion_matrix(ytest,predicted))\n",
    "print('Recall and precison ')\n",
    "print(metrics.recall_score(ytest,predicted))\n",
    "print(metrics.precision_score(ytest,predicted))"
   ]
  }
 ],
 "metadata": {
  "anaconda-cloud": {},
  "kernelspec": {
   "display_name": "Python 3",
   "language": "python",
   "name": "python3"
  },
  "language_info": {
   "codemirror_mode": {
    "name": "ipython",
    "version": 3
   },
   "file_extension": ".py",
   "mimetype": "text/x-python",
   "name": "python",
   "nbconvert_exporter": "python",
   "pygments_lexer": "ipython3",
   "version": "3.5.5"
  }
 },
 "nbformat": 4,
 "nbformat_minor": 2
}
