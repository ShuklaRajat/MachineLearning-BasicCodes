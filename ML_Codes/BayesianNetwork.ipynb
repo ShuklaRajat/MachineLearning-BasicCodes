{
 "cells": [
  {
   "cell_type": "code",
   "execution_count": null,
   "metadata": {},
   "outputs": [],
   "source": [
    "import pandas as pd\n",
    "from pgmpy.estimators import MaximumLikelihoodEstimator \n",
    "from pgmpy.models import BayesianModel\n",
    "from pgmpy.inference import VariableElimination #Read the attributes\n",
    "raw_data = pd.read_csv('data-train-5.csv')\n",
    "print(\"Input Data and Shape\")\n",
    "print(raw_data.shape)\n",
    "data = pd.DataFrame(raw_data,columns=['A', 'G', 'CP','BP','CH','ECG','HR','EIA','HD'])\n",
    "data_train = data[: int(data.shape[0] * 0.80)]\n",
    "\n",
    "model = BayesianModel([('HD', 'CP'),('G', 'BP'),('A', 'CH'),('G', 'CH'),('HD', 'ECG'),\n",
    "                       ('HD','HR'),('BP', 'HR'),('A', 'HR'),('BP','HD'),('CH', 'HD'),('HD','EIA')])\n",
    "print('\\nLearning CPDs using Maximum Likelihood Estimators...'); \n",
    "model.fit(data, estimator=MaximumLikelihoodEstimator)\n",
    "\n",
    "print('\\nInferencing with Bayesian Network:')\n",
    "HeartDisease_infer = VariableElimination(model)\n",
    "for cpd in model.get_cpds():\n",
    " print(\"CPD of {variable}:\".format(variable=cpd.variable))\n",
    " print(cpd)\n",
    " print(model.check_model())\n",
    " \n",
    "print('\\n1.Probability of HeartDisease given Gender=Female')\n",
    "q= HeartDisease_infer.query(variables=['HD'],evidence={'G': 1}) \n",
    "print(q['HD'])\n",
    "\n",
    "print('\\n2. Probability of HeartDisease given BP= Low')\n",
    "q= HeartDisease_infer.query(variables=['HD'], evidence={'BP': 1})\n",
    "print(q['HD'])\n"
   ]
  }
 ],
 "metadata": {
  "anaconda-cloud": {},
  "kernelspec": {
   "display_name": "Python 3",
   "language": "python",
   "name": "python3"
  },
  "language_info": {
   "codemirror_mode": {
    "name": "ipython",
    "version": 3
   },
   "file_extension": ".py",
   "mimetype": "text/x-python",
   "name": "python",
   "nbconvert_exporter": "python",
   "pygments_lexer": "ipython3",
   "version": "3.5.5"
  }
 },
 "nbformat": 4,
 "nbformat_minor": 2
}
