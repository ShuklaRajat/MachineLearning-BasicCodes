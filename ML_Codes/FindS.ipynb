{
 "cells": [
  {
   "cell_type": "code",
   "execution_count": null,
   "metadata": {},
   "outputs": [],
   "source": [
    "import pandas as pd\n",
    "\n",
    "def hypothesis(train):\n",
    "    print(\"\\nGenerating Hypothesis:\\n\")\n",
    "    h=pd.Series(['-']*(len(train.columns)-1))\n",
    "    print(list(h))\n",
    "    for (i,r) in train.iterrows():\n",
    "        print('Data Instance:',list(r))\n",
    "        if r.iloc[-1]==1:\n",
    "            for j in (range(len(train.columns)-1)):\n",
    "                if h.iloc[j]==r.iloc[j]:\n",
    "                    continue\n",
    "                else:\n",
    "                    if h.iloc[j]=='-':\n",
    "                        h.iloc[j]=r.iloc[j]\n",
    "                    else :\n",
    "                        h.iloc[j]='?'\n",
    "        print('Hypothesis:',list(h))\n",
    "                    \n",
    "    return(h)\n",
    "    \n",
    "def testh(h,sample):\n",
    "    index = h!='?'\n",
    "    print(\"index = h!='?'\",index)\n",
    "    if (h[index] ==sample[index]).all():\n",
    "        return 1\n",
    "    else:\n",
    "        return 0\n",
    "\n",
    "def ac(h,test):\n",
    "    a=0\n",
    "    for (i,r) in test.iterrows():\n",
    "        a=a+testh(h,r.iloc[:-1])\n",
    "    return (a/len(test))*100\n",
    "\n",
    "df=pd.read_csv(\"weather(1).csv\",header=None)\n",
    "print(\"\\nComplete Dataset\\n:\",df)\n",
    "\n",
    "train=df.sample(frac=0.8,random_state=0)\n",
    "test=df.drop(train.index)\n",
    "\n",
    "print(\"\\nTraining Data\\n\",train)\n",
    "print(\"\\nTesting Data\\n\",test)\n",
    "\n",
    "hyp=hypothesis(train)\n",
    "\n",
    "print('Accuracy:',ac(hyp,test))"
   ]
  }
 ],
 "metadata": {
  "anaconda-cloud": {},
  "kernelspec": {
   "display_name": "Python 3",
   "language": "python",
   "name": "python3"
  },
  "language_info": {
   "codemirror_mode": {
    "name": "ipython",
    "version": 3
   },
   "file_extension": ".py",
   "mimetype": "text/x-python",
   "name": "python",
   "nbconvert_exporter": "python",
   "pygments_lexer": "ipython3",
   "version": "3.5.5"
  }
 },
 "nbformat": 4,
 "nbformat_minor": 2
}
