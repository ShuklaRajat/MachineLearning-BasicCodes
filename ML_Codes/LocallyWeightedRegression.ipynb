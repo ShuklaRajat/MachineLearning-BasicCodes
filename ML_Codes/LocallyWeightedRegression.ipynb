{
 "cells": [
  {
   "cell_type": "code",
   "execution_count": null,
   "metadata": {},
   "outputs": [],
   "source": [
    "import numpy as np\n",
    "import matplotlib.pyplot as plt\n",
    "tou= 0.5\n",
    "X_train = np.array(list(range(3, 33)) )\n",
    "X_train=X_train[:,np.newaxis]\n",
    "y_train = np.array([1,2,1,2,1,1,3,4,5,4,5,6,5,6,7,8,9,10,11,11,12,11,11,10,12,11,11,10,9,8])\n",
    "X_test = np.array([i/10 for i in range(400)])\n",
    "X_test=X_test[:,np.newaxis]\n",
    "y_test = []\n",
    "for r in range(len(X_test)):\n",
    "    \n",
    "        wts=np.exp(-np.sum((X_train-X_test[r])**2,axis=1)/(2*tou)**2)\n",
    "        W=np.diag(wts)\n",
    "        factor1 = np.linalg.inv(X_train.T.dot(W).dot(X_train)) \n",
    "        parameters=factor1.dot(X_train.T).dot(W).dot(y_train)\n",
    "        prediction=X_test[r].T.dot(parameters)\n",
    "        y_test.append(prediction)\n",
    "   \n",
    "y_test = np.array(y_test)\n",
    "plt.plot(X_train, y_train, 'o') \n",
    "plt.plot(X_test, y_test, '*')"
   ]
  }
 ],
 "metadata": {
  "anaconda-cloud": {},
  "kernelspec": {
   "display_name": "Python 3",
   "language": "python",
   "name": "python3"
  },
  "language_info": {
   "codemirror_mode": {
    "name": "ipython",
    "version": 3
   },
   "file_extension": ".py",
   "mimetype": "text/x-python",
   "name": "python",
   "nbconvert_exporter": "python",
   "pygments_lexer": "ipython3",
   "version": "3.5.5"
  }
 },
 "nbformat": 4,
 "nbformat_minor": 2
}
